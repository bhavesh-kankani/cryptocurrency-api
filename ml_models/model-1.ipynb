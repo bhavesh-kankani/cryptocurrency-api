{
 "cells": [
  {
   "cell_type": "code",
   "execution_count": 2,
   "id": "80171fd6",
   "metadata": {},
   "outputs": [],
   "source": [
    "import json\n",
    "import requests\n",
    "from tensorflow import keras\n",
    "from keras.layers import Activation, Dense, Dropout, LSTM\n",
    "import numpy as np\n",
    "import pandas as pd\n",
    "from sklearn.metrics import mean_squared_error, mean_absolute_error\n",
    "from sklearn.preprocessing import MinMaxScaler\n",
    "import joblib"
   ]
  },
  {
   "cell_type": "code",
   "execution_count": 3,
   "id": "fcdb6df3",
   "metadata": {},
   "outputs": [],
   "source": [
    "endpoint = \"https://min-api.cryptocompare.com/data/histoday\"\n",
    "res = requests.get(endpoint + \"?fsym=BTC&tsym=USD&limit=2000\")\n",
    "df = pd.DataFrame(json.loads(res.content)['Data'])\n",
    "df.drop('conversionType', inplace=True, axis=1)\n",
    "df.drop('conversionSymbol', inplace=True, axis=1)\n",
    "df = df.set_index('time')\n",
    "df.index = pd.to_datetime(df.index, unit = \"s\")"
   ]
  },
  {
   "cell_type": "code",
   "execution_count": 4,
   "id": "6763a969",
   "metadata": {},
   "outputs": [
    {
     "data": {
      "text/html": [
       "<div>\n",
       "<style scoped>\n",
       "    .dataframe tbody tr th:only-of-type {\n",
       "        vertical-align: middle;\n",
       "    }\n",
       "\n",
       "    .dataframe tbody tr th {\n",
       "        vertical-align: top;\n",
       "    }\n",
       "\n",
       "    .dataframe thead th {\n",
       "        text-align: right;\n",
       "    }\n",
       "</style>\n",
       "<table border=\"1\" class=\"dataframe\">\n",
       "  <thead>\n",
       "    <tr style=\"text-align: right;\">\n",
       "      <th></th>\n",
       "      <th>high</th>\n",
       "      <th>low</th>\n",
       "      <th>open</th>\n",
       "      <th>volumefrom</th>\n",
       "      <th>volumeto</th>\n",
       "      <th>close</th>\n",
       "    </tr>\n",
       "    <tr>\n",
       "      <th>time</th>\n",
       "      <th></th>\n",
       "      <th></th>\n",
       "      <th></th>\n",
       "      <th></th>\n",
       "      <th></th>\n",
       "      <th></th>\n",
       "    </tr>\n",
       "  </thead>\n",
       "  <tbody>\n",
       "    <tr>\n",
       "      <th>2016-01-29</th>\n",
       "      <td>385.75</td>\n",
       "      <td>363.49</td>\n",
       "      <td>379.69</td>\n",
       "      <td>138455.81</td>\n",
       "      <td>51927041.84</td>\n",
       "      <td>380.29</td>\n",
       "    </tr>\n",
       "    <tr>\n",
       "      <th>2016-01-30</th>\n",
       "      <td>381.75</td>\n",
       "      <td>375.04</td>\n",
       "      <td>380.29</td>\n",
       "      <td>36179.60</td>\n",
       "      <td>13720656.84</td>\n",
       "      <td>377.76</td>\n",
       "    </tr>\n",
       "    <tr>\n",
       "      <th>2016-01-31</th>\n",
       "      <td>380.54</td>\n",
       "      <td>366.88</td>\n",
       "      <td>377.76</td>\n",
       "      <td>39019.71</td>\n",
       "      <td>14718855.75</td>\n",
       "      <td>369.84</td>\n",
       "    </tr>\n",
       "    <tr>\n",
       "      <th>2016-02-01</th>\n",
       "      <td>379.78</td>\n",
       "      <td>365.27</td>\n",
       "      <td>369.84</td>\n",
       "      <td>74346.01</td>\n",
       "      <td>27728088.91</td>\n",
       "      <td>372.18</td>\n",
       "    </tr>\n",
       "    <tr>\n",
       "      <th>2016-02-02</th>\n",
       "      <td>376.63</td>\n",
       "      <td>371.40</td>\n",
       "      <td>372.18</td>\n",
       "      <td>50981.07</td>\n",
       "      <td>19123252.48</td>\n",
       "      <td>373.92</td>\n",
       "    </tr>\n",
       "  </tbody>\n",
       "</table>\n",
       "</div>"
      ],
      "text/plain": [
       "              high     low    open  volumefrom     volumeto   close\n",
       "time                                                               \n",
       "2016-01-29  385.75  363.49  379.69   138455.81  51927041.84  380.29\n",
       "2016-01-30  381.75  375.04  380.29    36179.60  13720656.84  377.76\n",
       "2016-01-31  380.54  366.88  377.76    39019.71  14718855.75  369.84\n",
       "2016-02-01  379.78  365.27  369.84    74346.01  27728088.91  372.18\n",
       "2016-02-02  376.63  371.40  372.18    50981.07  19123252.48  373.92"
      ]
     },
     "execution_count": 4,
     "metadata": {},
     "output_type": "execute_result"
    }
   ],
   "source": [
    "df.head()"
   ]
  },
  {
   "cell_type": "code",
   "execution_count": 5,
   "id": "edc73099",
   "metadata": {},
   "outputs": [],
   "source": [
    "scaler = MinMaxScaler(feature_range = (0, 1))\n",
    "scaled_data = scaler.fit_transform(df['close'].values.reshape(-1, 1))"
   ]
  },
  {
   "cell_type": "code",
   "execution_count": 6,
   "id": "33e33110",
   "metadata": {},
   "outputs": [],
   "source": [
    "pred_days = 30"
   ]
  },
  {
   "cell_type": "code",
   "execution_count": 7,
   "id": "ba05c262",
   "metadata": {},
   "outputs": [],
   "source": [
    "x_train, y_train = [], []\n",
    "\n",
    "for x in range(pred_days, len(scaled_data)):\n",
    "    x_train.append(scaled_data[x-pred_days:x, 0])\n",
    "    y_train.append(scaled_data[x, 0])"
   ]
  },
  {
   "cell_type": "code",
   "execution_count": 8,
   "id": "abc3b0d5",
   "metadata": {},
   "outputs": [],
   "source": [
    "x_train, y_train = np.array(x_train), np.array(y_train)\n",
    "x_train = np.reshape(x_train, (x_train.shape[0], x_train.shape[1], 1))"
   ]
  },
  {
   "cell_type": "code",
   "execution_count": 9,
   "id": "3b4e060e",
   "metadata": {},
   "outputs": [
    {
     "name": "stdout",
     "output_type": "stream",
     "text": [
      "Epoch 1/30\n",
      "62/62 [==============================] - 12s 64ms/step - loss: 0.0057 - mean_squared_error: 0.0057\n",
      "Epoch 2/30\n",
      "62/62 [==============================] - 4s 64ms/step - loss: 0.0019 - mean_squared_error: 0.0019\n",
      "Epoch 3/30\n",
      "62/62 [==============================] - 4s 63ms/step - loss: 0.0017 - mean_squared_error: 0.0017\n",
      "Epoch 4/30\n",
      "62/62 [==============================] - 4s 61ms/step - loss: 0.0018 - mean_squared_error: 0.0018 0s - loss: 0.0019 - mean_squared_error\n",
      "Epoch 5/30\n",
      "62/62 [==============================] - 4s 64ms/step - loss: 0.0015 - mean_squared_error: 0.0015\n",
      "Epoch 6/30\n",
      "62/62 [==============================] - 4s 64ms/step - loss: 0.0018 - mean_squared_error: 0.0018\n",
      "Epoch 7/30\n",
      "62/62 [==============================] - 4s 64ms/step - loss: 0.0017 - mean_squared_error: 0.0017\n",
      "Epoch 8/30\n",
      "62/62 [==============================] - 4s 62ms/step - loss: 0.0016 - mean_squared_error: 0.0016\n",
      "Epoch 9/30\n",
      "62/62 [==============================] - 4s 63ms/step - loss: 0.0016 - mean_squared_error: 0.0016 0s - loss: 0.0\n",
      "Epoch 10/30\n",
      "62/62 [==============================] - 4s 63ms/step - loss: 0.0013 - mean_squared_error: 0.0013\n",
      "Epoch 11/30\n",
      "62/62 [==============================] - 4s 63ms/step - loss: 0.0012 - mean_squared_error: 0.0012\n",
      "Epoch 12/30\n",
      "62/62 [==============================] - 4s 63ms/step - loss: 0.0011 - mean_squared_error: 0.0011 1s\n",
      "Epoch 13/30\n",
      "62/62 [==============================] - 4s 64ms/step - loss: 0.0010 - mean_squared_error: 0.0010\n",
      "Epoch 14/30\n",
      "62/62 [==============================] - 4s 63ms/step - loss: 0.0010 - mean_squared_error: 0.0010\n",
      "Epoch 15/30\n",
      "62/62 [==============================] - 4s 64ms/step - loss: 0.0010 - mean_squared_error: 0.0010\n",
      "Epoch 16/30\n",
      "62/62 [==============================] - 4s 64ms/step - loss: 9.7226e-04 - mean_squared_error: 9.7226e-04\n",
      "Epoch 17/30\n",
      "62/62 [==============================] - 4s 63ms/step - loss: 0.0010 - mean_squared_error: 0.0010\n",
      "Epoch 18/30\n",
      "62/62 [==============================] - 4s 62ms/step - loss: 8.8954e-04 - mean_squared_error: 8.8954e-04\n",
      "Epoch 19/30\n",
      "62/62 [==============================] - 4s 63ms/step - loss: 9.9564e-04 - mean_squared_error: 9.9564e-04\n",
      "Epoch 20/30\n",
      "62/62 [==============================] - 4s 63ms/step - loss: 0.0011 - mean_squared_error: 0.0011\n",
      "Epoch 21/30\n",
      "62/62 [==============================] - 4s 63ms/step - loss: 0.0010 - mean_squared_error: 0.0010\n",
      "Epoch 22/30\n",
      "62/62 [==============================] - 4s 63ms/step - loss: 8.0865e-04 - mean_squared_error: 8.0865e-04 1s\n",
      "Epoch 23/30\n",
      "62/62 [==============================] - 4s 66ms/step - loss: 8.4961e-04 - mean_squared_error: 8.4961e-04\n",
      "Epoch 24/30\n",
      "62/62 [==============================] - 4s 63ms/step - loss: 8.7966e-04 - mean_squared_error: 8.7966e-04\n",
      "Epoch 25/30\n",
      "62/62 [==============================] - 4s 64ms/step - loss: 7.7591e-04 - mean_squared_error: 7.7591e-04\n",
      "Epoch 26/30\n",
      "62/62 [==============================] - 4s 61ms/step - loss: 7.3371e-04 - mean_squared_error: 7.3371e-04\n",
      "Epoch 27/30\n",
      "62/62 [==============================] - 4s 65ms/step - loss: 7.6085e-04 - mean_squared_error: 7.6085e-04\n",
      "Epoch 28/30\n",
      "62/62 [==============================] - 4s 62ms/step - loss: 6.5617e-04 - mean_squared_error: 6.5617e-04\n",
      "Epoch 29/30\n",
      "62/62 [==============================] - 4s 62ms/step - loss: 8.6876e-04 - mean_squared_error: 8.6876e-04\n",
      "Epoch 30/30\n",
      "62/62 [==============================] - 4s 63ms/step - loss: 8.0039e-04 - mean_squared_error: 8.0039e-04\n"
     ]
    },
    {
     "data": {
      "text/plain": [
       "<tensorflow.python.keras.callbacks.History at 0x1567cc53bb0>"
      ]
     },
     "execution_count": 9,
     "metadata": {},
     "output_type": "execute_result"
    }
   ],
   "source": [
    "model = keras.Sequential()\n",
    "\n",
    "model.add(LSTM(units=50, return_sequences=True, input_shape=(x_train.shape[1], 1)))\n",
    "model.add(Dropout(0.2))\n",
    "model.add(LSTM(units=50, return_sequences=True))\n",
    "model.add(Dropout(0.2))\n",
    "model.add(LSTM(units=50))\n",
    "model.add(Dropout(0.2))\n",
    "model.add(Dense(1))\n",
    "\n",
    "model.compile(optimizer='adam', loss='mean_squared_error', metrics = [keras.metrics.MeanSquaredError(name=\"mean_squared_error\", dtype=None)])\n",
    "model.fit(x_train, y_train, epochs=30, batch_size=32)"
   ]
  },
  {
   "cell_type": "code",
   "execution_count": 10,
   "id": "77e0c90e",
   "metadata": {},
   "outputs": [
    {
     "name": "stderr",
     "output_type": "stream",
     "text": [
      "WARNING:absl:Found untraced functions such as lstm_cell_layer_call_and_return_conditional_losses, lstm_cell_layer_call_fn, lstm_cell_1_layer_call_and_return_conditional_losses, lstm_cell_1_layer_call_fn, lstm_cell_2_layer_call_and_return_conditional_losses while saving (showing 5 of 15). These functions will not be directly callable after loading.\n"
     ]
    },
    {
     "name": "stdout",
     "output_type": "stream",
     "text": [
      "INFO:tensorflow:Assets written to: model_1\\assets\n"
     ]
    },
    {
     "name": "stderr",
     "output_type": "stream",
     "text": [
      "INFO:tensorflow:Assets written to: model_1\\assets\n"
     ]
    }
   ],
   "source": [
    "model.save('model_1')"
   ]
  },
  {
   "cell_type": "code",
   "execution_count": 11,
   "id": "1314adf6",
   "metadata": {},
   "outputs": [],
   "source": [
    "res = requests.get(endpoint + \"?fsym=BTC&tsym=USD&limit=6\")\n",
    "test_data = pd.DataFrame(json.loads(res.content)['Data'])\n",
    "test_data.drop('conversionType', inplace=True, axis=1)\n",
    "test_data.drop('conversionSymbol', inplace=True, axis=1)\n",
    "test_data = test_data.set_index('time')\n",
    "test_data.index = pd.to_datetime(test_data.index, unit = \"s\")"
   ]
  },
  {
   "cell_type": "code",
   "execution_count": 12,
   "id": "4550385c",
   "metadata": {},
   "outputs": [],
   "source": [
    "total_dataset = pd.concat((df['close'], test_data['close']), axis=0)\n",
    "total_dataset.index = pd.to_datetime(total_dataset.index)"
   ]
  },
  {
   "cell_type": "code",
   "execution_count": 13,
   "id": "37c41a8f",
   "metadata": {},
   "outputs": [],
   "source": [
    "model_inputs = total_dataset[len(total_dataset)-len(test_data)-pred_days:].values\n",
    "model_inputs = model_inputs.reshape(-1, 1)\n",
    "model_inputs = scaler.fit_transform(model_inputs)"
   ]
  },
  {
   "cell_type": "code",
   "execution_count": 14,
   "id": "d259c91a",
   "metadata": {},
   "outputs": [],
   "source": [
    "x_test = []\n",
    "\n",
    "for x in range(pred_days, len(model_inputs)):\n",
    "    x_test.append(model_inputs[x-pred_days:x, 0])"
   ]
  },
  {
   "cell_type": "code",
   "execution_count": 15,
   "id": "b7050a01",
   "metadata": {},
   "outputs": [],
   "source": [
    "x_test = np.array(x_test)\n",
    "x_test = np.reshape(x_test, (x_test.shape[0], x_test.shape[1], 1))\n",
    "\n",
    "prediction_prices = model.predict(x_test)\n",
    "prediction_prices = scaler.inverse_transform(prediction_prices)"
   ]
  },
  {
   "cell_type": "code",
   "execution_count": 16,
   "id": "a5e59096",
   "metadata": {},
   "outputs": [
    {
     "data": {
      "text/plain": [
       "array([[31084.904],\n",
       "       [31006.443],\n",
       "       [31054.037],\n",
       "       [31181.863],\n",
       "       [31366.07 ],\n",
       "       [31463.336],\n",
       "       [31354.105]], dtype=float32)"
      ]
     },
     "execution_count": 16,
     "metadata": {},
     "output_type": "execute_result"
    }
   ],
   "source": [
    "prediction_prices"
   ]
  },
  {
   "cell_type": "code",
   "execution_count": null,
   "id": "0153577e",
   "metadata": {},
   "outputs": [],
   "source": []
  },
  {
   "cell_type": "code",
   "execution_count": 32,
   "id": "6e4f0828",
   "metadata": {},
   "outputs": [
    {
     "data": {
      "text/plain": [
       "array([[31084.904],\n",
       "       [31006.443],\n",
       "       [31054.037],\n",
       "       [31181.863],\n",
       "       [31366.07 ],\n",
       "       [31463.336],\n",
       "       [31354.105]], dtype=float32)"
      ]
     },
     "execution_count": 32,
     "metadata": {},
     "output_type": "execute_result"
    }
   ],
   "source": [
    "from tensorflow import keras\n",
    "loaded_model = keras.models.load_model('model_1')\n",
    "predictions = loaded_model.predict(x_test)\n",
    "predictions = scaler.inverse_transform(predictions)\n",
    "predictions"
   ]
  },
  {
   "cell_type": "code",
   "execution_count": null,
   "id": "73767a57",
   "metadata": {},
   "outputs": [],
   "source": []
  },
  {
   "cell_type": "code",
   "execution_count": 41,
   "id": "f7dbab4b",
   "metadata": {},
   "outputs": [],
   "source": [
    "coins = [\"Bitcoin\", \"Ethereum\", \"Dogecoin\", \"XRP\", \"Litecoin\", \"Stellar\", \"Tether\"]\n",
    "coin_symbols = [\"BTC\", \"ETH\", \"DOGE\", \"XRP\", \"LTC\", \"XLM\", \"USDT\"]"
   ]
  },
  {
   "cell_type": "code",
   "execution_count": 42,
   "id": "432fa1cb",
   "metadata": {},
   "outputs": [],
   "source": [
    "from datetime import datetime\n",
    "days = [\"Mon\", \"Tue\", \"Wed\", \"Thu\", \"Fri\", \"Sat\", \"Sun\"]\n",
    "day = datetime.today().weekday() + 1"
   ]
  },
  {
   "cell_type": "code",
   "execution_count": 66,
   "id": "1f2f62cf",
   "metadata": {},
   "outputs": [],
   "source": [
    "predictions = {(days[(day+k)%7] if k != 0 else \"Tmrw\"):float(predictions[k][0]) for k in range(len(predictions))}"
   ]
  },
  {
   "cell_type": "code",
   "execution_count": null,
   "id": "90b50f64",
   "metadata": {},
   "outputs": [],
   "source": [
    "predictions"
   ]
  }
 ],
 "metadata": {
  "kernelspec": {
   "display_name": "Python 3 (ipykernel)",
   "language": "python",
   "name": "python3"
  },
  "language_info": {
   "codemirror_mode": {
    "name": "ipython",
    "version": 3
   },
   "file_extension": ".py",
   "mimetype": "text/x-python",
   "name": "python",
   "nbconvert_exporter": "python",
   "pygments_lexer": "ipython3",
   "version": "3.9.5"
  }
 },
 "nbformat": 4,
 "nbformat_minor": 5
}
